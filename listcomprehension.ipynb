{
 "cells": [
  {
   "cell_type": "code",
   "execution_count": 8,
   "id": "77c424b1",
   "metadata": {},
   "outputs": [
    {
     "name": "stdout",
     "output_type": "stream",
     "text": [
      "[1, 2, 3, 4, 5, 6, 7, 8, 9]\n"
     ]
    }
   ],
   "source": [
    "'''\n",
    "list comprehension\n",
    "\n",
    "'''\n",
    "\n",
    "liste = [1,2,3,4,5,6,7,8,9]   # append komudu ile listeye veri eklenir.\n",
    "liste2=list()\n",
    "for i in liste:\n",
    "    liste2.append(i)\n",
    "print(liste2)"
   ]
  },
  {
   "cell_type": "code",
   "execution_count": 9,
   "id": "b20f555e",
   "metadata": {},
   "outputs": [
    {
     "name": "stdout",
     "output_type": "stream",
     "text": [
      "[1, 2, 3, 4, 5]\n"
     ]
    }
   ],
   "source": [
    "liste3 =[1,2,3,4,5]           # list comprehension ise liste oluşturmak için kullanılır.\n",
    "liste4=[i for i in liste3]\n",
    "print(liste4)\n"
   ]
  },
  {
   "cell_type": "code",
   "execution_count": 10,
   "id": "c3546e33",
   "metadata": {},
   "outputs": [
    {
     "name": "stdout",
     "output_type": "stream",
     "text": [
      "[2, 4, 6, 8, 10]\n"
     ]
    }
   ],
   "source": [
    "liste5=[1,2,3,4,5]\n",
    "liste6=[i*2 for i in liste5]\n",
    "print(liste6)"
   ]
  },
  {
   "cell_type": "code",
   "execution_count": 11,
   "id": "82fc0dfc",
   "metadata": {},
   "outputs": [
    {
     "name": "stdout",
     "output_type": "stream",
     "text": [
      "[1, 2, 3, 4, 5, 6, 7, 8, 9, 10, 11, 12, 13, 14]\n"
     ]
    }
   ],
   "source": [
    "liste =[[1,2,3],[4,5,6,7,8],[9,10,11,12,13,14]]\n",
    "liste1=[x for i in liste for x in i]\n",
    "print(liste1)"
   ]
  },
  {
   "cell_type": "code",
   "execution_count": null,
   "id": "355f64e5",
   "metadata": {},
   "outputs": [],
   "source": []
  }
 ],
 "metadata": {
  "kernelspec": {
   "display_name": "Python 3 (ipykernel)",
   "language": "python",
   "name": "python3"
  },
  "language_info": {
   "codemirror_mode": {
    "name": "ipython",
    "version": 3
   },
   "file_extension": ".py",
   "mimetype": "text/x-python",
   "name": "python",
   "nbconvert_exporter": "python",
   "pygments_lexer": "ipython3",
   "version": "3.9.12"
  }
 },
 "nbformat": 4,
 "nbformat_minor": 5
}
