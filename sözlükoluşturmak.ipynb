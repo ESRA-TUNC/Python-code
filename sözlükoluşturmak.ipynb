{
 "cells": [
  {
   "cell_type": "code",
   "execution_count": 26,
   "id": "0d4efe8b",
   "metadata": {},
   "outputs": [
    {
     "name": "stdout",
     "output_type": "stream",
     "text": [
      "<class 'dict'>\n"
     ]
    }
   ],
   "source": [
    "'''\n",
    "sözlük oluşturma\n",
    "\n",
    "'''\n",
    "\n",
    "sözlük ={\"bir\":1, \"iki\":2,\"üç\":3,\"dört\":4,\"beş\":5}\n",
    "print(type(sözlük))"
   ]
  },
  {
   "cell_type": "code",
   "execution_count": 27,
   "id": "6cbf9cb7",
   "metadata": {},
   "outputs": [
    {
     "name": "stdout",
     "output_type": "stream",
     "text": [
      "1\n"
     ]
    }
   ],
   "source": [
    "sözlük1 ={\"bir\":1, \"iki\":2,\"üç\":3,\"dört\":4,\"beş\":5}\n",
    "print(sözlük1[\"bir\"])"
   ]
  },
  {
   "cell_type": "code",
   "execution_count": 28,
   "id": "1302bddb",
   "metadata": {},
   "outputs": [
    {
     "name": "stdout",
     "output_type": "stream",
     "text": [
      "dict_keys(['bir', 'iki', 'üç', 'dört', 'beş'])\n"
     ]
    }
   ],
   "source": [
    "\n",
    "'''\n",
    "sözlükte keys ve values metodu\n",
    "\n",
    "'''\n",
    "sözlük2 ={\"bir\":1, \"iki\":2,\"üç\":3,\"dört\":4,\"beş\":5}\n",
    "print(sözlük2.keys())"
   ]
  },
  {
   "cell_type": "code",
   "execution_count": 29,
   "id": "c33d9084",
   "metadata": {},
   "outputs": [
    {
     "name": "stdout",
     "output_type": "stream",
     "text": [
      "dict_values([1, 2, 3, 4, 5])\n"
     ]
    }
   ],
   "source": [
    "sözlük2 ={\"bir\":1, \"iki\":2,\"üç\":3,\"dört\":4,\"beş\":5}\n",
    "print(sözlük2.values())"
   ]
  },
  {
   "cell_type": "code",
   "execution_count": null,
   "id": "1a93469c",
   "metadata": {},
   "outputs": [],
   "source": []
  }
 ],
 "metadata": {
  "kernelspec": {
   "display_name": "Python 3 (ipykernel)",
   "language": "python",
   "name": "python3"
  },
  "language_info": {
   "codemirror_mode": {
    "name": "ipython",
    "version": 3
   },
   "file_extension": ".py",
   "mimetype": "text/x-python",
   "name": "python",
   "nbconvert_exporter": "python",
   "pygments_lexer": "ipython3",
   "version": "3.9.12"
  }
 },
 "nbformat": 4,
 "nbformat_minor": 5
}
