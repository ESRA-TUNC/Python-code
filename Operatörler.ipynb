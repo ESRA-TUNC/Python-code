{
 "cells": [
  {
   "cell_type": "code",
   "execution_count": 1,
   "id": "a0f87006",
   "metadata": {},
   "outputs": [
    {
     "name": "stdout",
     "output_type": "stream",
     "text": [
      "toplama işlemi sonucu : 115\n"
     ]
    }
   ],
   "source": [
    "'''\n",
    "python operatörleri\n",
    "\n",
    "toplama = +\n",
    "çıkartma = -\n",
    "çarpma = *\n",
    "bölme = /\n",
    "\n",
    "'''\n",
    "\n",
    "x = 35\n",
    "y = 50\n",
    "z = 30\n",
    "toplama = x+y+z\n",
    "print(\"toplama işlemi sonucu :\",toplama)"
   ]
  },
  {
   "cell_type": "code",
   "execution_count": 2,
   "id": "d04d857f",
   "metadata": {},
   "outputs": [
    {
     "name": "stdout",
     "output_type": "stream",
     "text": [
      "çıkartma işlemi sonucu : -45\n"
     ]
    }
   ],
   "source": [
    "x = 35\n",
    "y = 50\n",
    "z = 30\n",
    "çıkartma = x-y-z\n",
    "print(\"çıkartma işlemi sonucu :\",çıkartma)"
   ]
  },
  {
   "cell_type": "code",
   "execution_count": 3,
   "id": "fd0a1a6e",
   "metadata": {},
   "outputs": [
    {
     "name": "stdout",
     "output_type": "stream",
     "text": [
      "bölme işlemi sonucu : 1.6666666666666667\n"
     ]
    }
   ],
   "source": [
    "y = 50\n",
    "z = 30\n",
    "bölme = y / z\n",
    "print(\"bölme işlemi sonucu :\",bölme)\n"
   ]
  },
  {
   "cell_type": "code",
   "execution_count": 4,
   "id": "97aac4c3",
   "metadata": {},
   "outputs": [
    {
     "name": "stdout",
     "output_type": "stream",
     "text": [
      "çarpma  işlemi sonucu : 1500\n"
     ]
    }
   ],
   "source": [
    "y = 50\n",
    "z = 30\n",
    "çarpma = y * z\n",
    "print(\"çarpma  işlemi sonucu :\",çarpma )"
   ]
  },
  {
   "cell_type": "code",
   "execution_count": 5,
   "id": "28ec70ef",
   "metadata": {},
   "outputs": [
    {
     "name": "stdout",
     "output_type": "stream",
     "text": [
      "tam bölme işlemi sonucu = 9\n"
     ]
    }
   ],
   "source": [
    "'''\n",
    "python tamsayı bölme işlemi (//)\n",
    "\n",
    "'''\n",
    "a = 345\n",
    "b = 36\n",
    "tambolme = a // b\n",
    "print(\"tam bölme işlemi sonucu =\",tambolme)"
   ]
  },
  {
   "cell_type": "code",
   "execution_count": 6,
   "id": "ee0c4688",
   "metadata": {},
   "outputs": [
    {
     "name": "stdout",
     "output_type": "stream",
     "text": [
      "kalan bulma işlemi sonucu = 21\n"
     ]
    }
   ],
   "source": [
    "\n",
    "'''\n",
    "kalan bulma işlemi (%)\n",
    "\n",
    "'''\n",
    "\n",
    "a = 345\n",
    "b = 36\n",
    "kalanbulma = a % b\n",
    "print(\"kalan bulma işlemi sonucu =\",kalanbulma)"
   ]
  },
  {
   "cell_type": "code",
   "execution_count": 7,
   "id": "78400349",
   "metadata": {},
   "outputs": [
    {
     "name": "stdout",
     "output_type": "stream",
     "text": [
      "üslü sayı bulma işlemi sonucu = 39304\n"
     ]
    }
   ],
   "source": [
    "'''\n",
    "üslü sayı bulma işlemi (**)\n",
    "\n",
    "'''\n",
    "\n",
    "a = 34\n",
    "b = 3\n",
    "üslüsayıbulma = a ** b\n",
    "print(\"üslü sayı bulma işlemi sonucu =\",üslüsayıbulma)"
   ]
  },
  {
   "cell_type": "code",
   "execution_count": null,
   "id": "e18460a9",
   "metadata": {},
   "outputs": [],
   "source": []
  }
 ],
 "metadata": {
  "kernelspec": {
   "display_name": "Python 3 (ipykernel)",
   "language": "python",
   "name": "python3"
  },
  "language_info": {
   "codemirror_mode": {
    "name": "ipython",
    "version": 3
   },
   "file_extension": ".py",
   "mimetype": "text/x-python",
   "name": "python",
   "nbconvert_exporter": "python",
   "pygments_lexer": "ipython3",
   "version": "3.9.12"
  }
 },
 "nbformat": 4,
 "nbformat_minor": 5
}
