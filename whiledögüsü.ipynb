{
 "cells": [
  {
   "cell_type": "code",
   "execution_count": 4,
   "id": "1cbdd64e",
   "metadata": {},
   "outputs": [
    {
     "name": "stdout",
     "output_type": "stream",
     "text": [
      "i'nin değeri : 0\n",
      "i'nin değeri : 1\n",
      "i'nin değeri : 2\n",
      "i'nin değeri : 3\n",
      "i'nin değeri : 4\n",
      "i'nin değeri : 5\n",
      "i'nin değeri : 6\n",
      "i'nin değeri : 7\n",
      "i'nin değeri : 8\n",
      "i'nin değeri : 9\n"
     ]
    }
   ],
   "source": [
    "'''\n",
    "WHİLE DÖNGÜSÜ\n",
    "\n",
    "'''\n",
    "\n",
    "i= 0\n",
    "while (i < 10):\n",
    "    print(\"i'nin değeri :\",i)\n",
    "    i+=1            # while döngüsünde +=1 yazmazsak program sonsuz döngüye girer."
   ]
  },
  {
   "cell_type": "code",
   "execution_count": 5,
   "id": "69d141ff",
   "metadata": {},
   "outputs": [
    {
     "name": "stdout",
     "output_type": "stream",
     "text": [
      "i: 0\n",
      "i: 1\n",
      "i: 2\n",
      "i: 3\n",
      "i: 4\n"
     ]
    }
   ],
   "source": [
    "'''\n",
    "break ve continue ifadeleri\n",
    "\n",
    "'''\n",
    "\n",
    "i=0\n",
    "while (i<10):\n",
    "    if (i == 5):\n",
    "        break\n",
    "    print(\"i:\",i)\n",
    "    i+=1\n"
   ]
  },
  {
   "cell_type": "code",
   "execution_count": 6,
   "id": "d6802856",
   "metadata": {},
   "outputs": [
    {
     "name": "stdout",
     "output_type": "stream",
     "text": [
      "i: 1\n",
      "i: 2\n",
      "i: 3\n",
      "i: 4\n"
     ]
    }
   ],
   "source": [
    "liste =[1,2,3,4,5,6,7,8,9]   # break ifedesi kodu durdurma işlemi görür.\n",
    "for i in liste:\n",
    "    if (i== 5):\n",
    "        break\n",
    "    print(\"i:\",i)"
   ]
  },
  {
   "cell_type": "code",
   "execution_count": 7,
   "id": "688b3130",
   "metadata": {},
   "outputs": [
    {
     "name": "stdout",
     "output_type": "stream",
     "text": [
      "i: 0\n",
      "i: 1\n",
      "i: 2\n",
      "i: 4\n",
      "i: 6\n",
      "i: 7\n",
      "i: 8\n",
      "i: 9\n",
      "i: 10\n"
     ]
    }
   ],
   "source": [
    "liste= list(range(0,11))  # range ile liste oluşturulur.\n",
    "for i in liste:\n",
    "    if (i == 3 or i==5):\n",
    "        continue          # continue ifadesi görüldüğü zaman direk blok başına geri döner.\n",
    "    print(\"i:\",i)"
   ]
  },
  {
   "cell_type": "code",
   "execution_count": null,
   "id": "4733e0a5",
   "metadata": {},
   "outputs": [],
   "source": []
  }
 ],
 "metadata": {
  "kernelspec": {
   "display_name": "Python 3 (ipykernel)",
   "language": "python",
   "name": "python3"
  },
  "language_info": {
   "codemirror_mode": {
    "name": "ipython",
    "version": 3
   },
   "file_extension": ".py",
   "mimetype": "text/x-python",
   "name": "python",
   "nbconvert_exporter": "python",
   "pygments_lexer": "ipython3",
   "version": "3.9.12"
  }
 },
 "nbformat": 4,
 "nbformat_minor": 5
}
