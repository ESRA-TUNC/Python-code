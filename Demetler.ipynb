{
 "cells": [
  {
   "cell_type": "code",
   "execution_count": 18,
   "id": "21bce2d8",
   "metadata": {},
   "outputs": [
    {
     "name": "stdout",
     "output_type": "stream",
     "text": [
      "<class 'tuple'>\n"
     ]
    }
   ],
   "source": [
    "'''\n",
    "demetler\n",
    "\n",
    "'''\n",
    "demet =(1,2,3,4,5,6,7,8,9)\n",
    "print(type(demet))"
   ]
  },
  {
   "cell_type": "code",
   "execution_count": 19,
   "id": "b34ca333",
   "metadata": {},
   "outputs": [
    {
     "name": "stdout",
     "output_type": "stream",
     "text": [
      "5\n"
     ]
    }
   ],
   "source": [
    "demet =(1,2,3,4,5,6,7,8,9)\n",
    "print(demet[4])\n"
   ]
  },
  {
   "cell_type": "code",
   "execution_count": 20,
   "id": "e48fa573",
   "metadata": {},
   "outputs": [
    {
     "name": "stdout",
     "output_type": "stream",
     "text": [
      "9\n"
     ]
    }
   ],
   "source": [
    "demet =(1,2,3,4,5,6,7,8,9)\n",
    "print(demet[-1])"
   ]
  },
  {
   "cell_type": "code",
   "execution_count": 21,
   "id": "9c3e20d4",
   "metadata": {},
   "outputs": [
    {
     "name": "stdout",
     "output_type": "stream",
     "text": [
      "(2, 3, 4)\n"
     ]
    }
   ],
   "source": [
    "demet =(1,2,3,4,5,6,7,8,9)\n",
    "print(demet[1:4])"
   ]
  },
  {
   "cell_type": "code",
   "execution_count": 22,
   "id": "ac08d75c",
   "metadata": {},
   "outputs": [
    {
     "name": "stdout",
     "output_type": "stream",
     "text": [
      "(9, 8, 7, 6, 5, 4, 3, 2, 1)\n"
     ]
    }
   ],
   "source": [
    "demet =(1,2,3,4,5,6,7,8,9)\n",
    "print(demet[::-1])"
   ]
  },
  {
   "cell_type": "code",
   "execution_count": 23,
   "id": "05580338",
   "metadata": {},
   "outputs": [
    {
     "name": "stdout",
     "output_type": "stream",
     "text": [
      "3\n",
      "2\n"
     ]
    }
   ],
   "source": [
    "'''\n",
    "demet methodları\n",
    "\n",
    "'''\n",
    "\n",
    "demet2 =(1,2,2,2,3,4,5,6,6,7,8,8,8,9)\n",
    "print(demet2.count(2))                # İstenilen karakterin kaç tane olduğunu gösterir.\n",
    "print(demet2.count(6))"
   ]
  },
  {
   "cell_type": "code",
   "execution_count": 24,
   "id": "a3f23f35",
   "metadata": {},
   "outputs": [
    {
     "name": "stdout",
     "output_type": "stream",
     "text": [
      "1\n"
     ]
    }
   ],
   "source": [
    "demet3 =(\"python\",\"java\",\"c\",\"demet\",\"liste\")\n",
    "print(demet3.index(\"java\"))           # Aranan verinin nerede olduğunu gösterir."
   ]
  },
  {
   "cell_type": "code",
   "execution_count": 25,
   "id": "dfd9047c",
   "metadata": {},
   "outputs": [
    {
     "ename": "TypeError",
     "evalue": "'tuple' object does not support item assignment",
     "output_type": "error",
     "traceback": [
      "\u001b[1;31m---------------------------------------------------------------------------\u001b[0m",
      "\u001b[1;31mTypeError\u001b[0m                                 Traceback (most recent call last)",
      "Input \u001b[1;32mIn [25]\u001b[0m, in \u001b[0;36m<cell line: 2>\u001b[1;34m()\u001b[0m\n\u001b[0;32m      1\u001b[0m demet4 \u001b[38;5;241m=\u001b[39m(\u001b[38;5;241m1\u001b[39m,\u001b[38;5;241m2\u001b[39m,\u001b[38;5;241m3\u001b[39m,\u001b[38;5;241m4\u001b[39m,\u001b[38;5;241m5\u001b[39m)                   \u001b[38;5;66;03m# Demette yer alan karakterler değiştirilemez.\u001b[39;00m\n\u001b[1;32m----> 2\u001b[0m demet4[\u001b[38;5;241m-\u001b[39m\u001b[38;5;241m1\u001b[39m]\u001b[38;5;241m=\u001b[39m\u001b[38;5;241m10\u001b[39m\n",
      "\u001b[1;31mTypeError\u001b[0m: 'tuple' object does not support item assignment"
     ]
    }
   ],
   "source": [
    "demet4 =(1,2,3,4,5)                   # Demette yer alan karakterler değiştirilemez.\n",
    "demet4[-1]=10"
   ]
  },
  {
   "cell_type": "code",
   "execution_count": null,
   "id": "0946da02",
   "metadata": {},
   "outputs": [],
   "source": []
  }
 ],
 "metadata": {
  "kernelspec": {
   "display_name": "Python 3 (ipykernel)",
   "language": "python",
   "name": "python3"
  },
  "language_info": {
   "codemirror_mode": {
    "name": "ipython",
    "version": 3
   },
   "file_extension": ".py",
   "mimetype": "text/x-python",
   "name": "python",
   "nbconvert_exporter": "python",
   "pygments_lexer": "ipython3",
   "version": "3.9.12"
  }
 },
 "nbformat": 4,
 "nbformat_minor": 5
}
