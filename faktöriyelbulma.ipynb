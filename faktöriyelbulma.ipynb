{
 "cells": [
  {
   "cell_type": "code",
   "execution_count": null,
   "id": "1cad4a35",
   "metadata": {},
   "outputs": [
    {
     "name": "stdout",
     "output_type": "stream",
     "text": [
      "sayı:2\n",
      "faktöreyel: 1 i: 2\n",
      "faktöriyel: 2\n",
      "sayı:5\n",
      "faktöreyel: 1 i: 2\n",
      "faktöreyel: 2 i: 3\n",
      "faktöreyel: 6 i: 4\n",
      "faktöreyel: 24 i: 5\n",
      "faktöriyel: 120\n",
      "sayı:9\n",
      "faktöreyel: 1 i: 2\n",
      "faktöreyel: 2 i: 3\n",
      "faktöreyel: 6 i: 4\n",
      "faktöreyel: 24 i: 5\n",
      "faktöreyel: 120 i: 6\n",
      "faktöreyel: 720 i: 7\n",
      "faktöreyel: 5040 i: 8\n",
      "faktöreyel: 40320 i: 9\n",
      "faktöriyel: 362880\n"
     ]
    }
   ],
   "source": [
    "\n",
    "while True:                 #sonsuz döngü yapar \"q\" girmedikçe.\n",
    "    sayı = input(\"sayı:\")\n",
    "    if (sayı == 'q'):\n",
    "        print(\"program sonlandırılıyor!\")\n",
    "        break\n",
    "    else:\n",
    "        sayı=int(sayı)\n",
    "        faktöriyel=1\n",
    "        for i in range(2,sayı+1):\n",
    "            print(\"faktöreyel:\",faktöriyel,\"i:\",i)\n",
    "            faktöriyel*=i\n",
    "        print(\"faktöriyel:\",faktöriyel)  "
   ]
  },
  {
   "cell_type": "code",
   "execution_count": null,
   "id": "5b0328b8",
   "metadata": {},
   "outputs": [],
   "source": []
  }
 ],
 "metadata": {
  "kernelspec": {
   "display_name": "Python 3 (ipykernel)",
   "language": "python",
   "name": "python3"
  },
  "language_info": {
   "codemirror_mode": {
    "name": "ipython",
    "version": 3
   },
   "file_extension": ".py",
   "mimetype": "text/x-python",
   "name": "python",
   "nbconvert_exporter": "python",
   "pygments_lexer": "ipython3",
   "version": "3.9.12"
  }
 },
 "nbformat": 4,
 "nbformat_minor": 5
}
