{
 "cells": [
  {
   "cell_type": "code",
   "execution_count": 9,
   "id": "3541664e",
   "metadata": {},
   "outputs": [
    {
     "name": "stdout",
     "output_type": "stream",
     "text": [
      "yaşınızı giriniz:20\n",
      "Ehliyet alabilir!\n"
     ]
    }
   ],
   "source": [
    "'''\n",
    "koşullu durumlar : if - elif - else\n",
    "\n",
    "'''\n",
    "yas =int(input(\"yaşınızı giriniz:\"))\n",
    "if yas<18:\n",
    "    print(\"Ehliyet alamaz!\")\n",
    "    \n",
    "else:\n",
    "     print(\"Ehliyet alabilir!\")\n"
   ]
  },
  {
   "cell_type": "code",
   "execution_count": 10,
   "id": "d854b09d",
   "metadata": {},
   "outputs": [
    {
     "name": "stdout",
     "output_type": "stream",
     "text": [
      "sayı giriniz:6\n",
      "sayı giriniz:18\n",
      "işlem numarası giriniz:1\n",
      "toplama işlemi sonucu: 24\n"
     ]
    }
   ],
   "source": [
    "''' \n",
    "4 işlem hesap makinesi\n",
    "'''\n",
    "toplama = 1\n",
    "çıkartma = 2\n",
    "bölme = 3\n",
    "çarpma = 4\n",
    "\n",
    "a = int(input(\"sayı giriniz:\"))\n",
    "b = int(input(\"sayı giriniz:\"))\n",
    "işlem = int (input(\"işlem numarası giriniz:\"))\n",
    "if işlem == 1 :\n",
    "    print(\"toplama işlemi sonucu:\",a+b)\n",
    "elif işlem == 2 :\n",
    "    print(\"çıkartma işlemi sonucu:\",a-b)\n",
    "elif işlem == 3 :\n",
    "    print(\"bölme işlemi sonucu:\",a/b)\n",
    "else  :\n",
    "    print(\"çarpma işlemi sonucu:\",a*b)"
   ]
  },
  {
   "cell_type": "code",
   "execution_count": 11,
   "id": "d994b0ee",
   "metadata": {},
   "outputs": [
    {
     "name": "stdout",
     "output_type": "stream",
     "text": [
      "sayı giriniz:56\n",
      "sayı giriniz:45\n",
      "işlem numarası giriniz:4\n",
      "çarpma işlemi sonucu: 2520\n"
     ]
    }
   ],
   "source": [
    "''' \n",
    "4 işlem hesap makinesi\n",
    "'''\n",
    "toplama = 1\n",
    "çıkartma = 2\n",
    "bölme = 3\n",
    "çarpma = 4\n",
    "\n",
    "a = int(input(\"sayı giriniz:\"))\n",
    "b = int(input(\"sayı giriniz:\"))\n",
    "işlem = int (input(\"işlem numarası giriniz:\"))\n",
    "if işlem == 1 :\n",
    "    print(\"toplama işlemi sonucu:\",a+b)\n",
    "elif işlem == 2 :\n",
    "    print(\"çıkartma işlemi sonucu:\",a-b)\n",
    "elif işlem == 3 :\n",
    "    print(\"bölme işlemi sonucu:\",a/b)\n",
    "else  :\n",
    "    print(\"çarpma işlemi sonucu:\",a*b)"
   ]
  },
  {
   "cell_type": "code",
   "execution_count": null,
   "id": "d62d82e9",
   "metadata": {},
   "outputs": [],
   "source": []
  }
 ],
 "metadata": {
  "kernelspec": {
   "display_name": "Python 3 (ipykernel)",
   "language": "python",
   "name": "python3"
  },
  "language_info": {
   "codemirror_mode": {
    "name": "ipython",
    "version": 3
   },
   "file_extension": ".py",
   "mimetype": "text/x-python",
   "name": "python",
   "nbconvert_exporter": "python",
   "pygments_lexer": "ipython3",
   "version": "3.9.12"
  }
 },
 "nbformat": 4,
 "nbformat_minor": 5
}
