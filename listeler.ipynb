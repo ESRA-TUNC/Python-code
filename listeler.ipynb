{
 "cells": [
  {
   "cell_type": "code",
   "execution_count": 10,
   "id": "3185e43f",
   "metadata": {},
   "outputs": [
    {
     "name": "stdout",
     "output_type": "stream",
     "text": [
      "['Erik', 'Armut', 'Karpuz', 64, 'Kavun']\n"
     ]
    }
   ],
   "source": [
    "'''\n",
    "listeler\n",
    "\n",
    "'''\n",
    "liste =[\"Erik\",\"Armut\",\"Karpuz\",64,\"Kavun\"]\n",
    "print(liste)"
   ]
  },
  {
   "cell_type": "code",
   "execution_count": 11,
   "id": "7c5d0a14",
   "metadata": {},
   "outputs": [
    {
     "name": "stdout",
     "output_type": "stream",
     "text": [
      "9\n"
     ]
    }
   ],
   "source": [
    "liste2 =[1,2,3,4,5,6,7,8,9]\n",
    "print(len(liste2))"
   ]
  },
  {
   "cell_type": "code",
   "execution_count": 12,
   "id": "1265a19f",
   "metadata": {},
   "outputs": [
    {
     "name": "stdout",
     "output_type": "stream",
     "text": [
      "3\n"
     ]
    }
   ],
   "source": [
    "'''\n",
    "liste indexleme ve parçalama \n",
    "\n",
    "'''\n",
    "liste =[1,2,3,4,5,6,7,8,9]\n",
    "print(liste[2])"
   ]
  },
  {
   "cell_type": "code",
   "execution_count": 13,
   "id": "cf320ca6",
   "metadata": {},
   "outputs": [
    {
     "name": "stdout",
     "output_type": "stream",
     "text": [
      "9\n"
     ]
    }
   ],
   "source": [
    "liste =[1,2,3,4,5,6,7,8,9]\n",
    "print(liste[-1])\n"
   ]
  },
  {
   "cell_type": "code",
   "execution_count": 14,
   "id": "fbd42cdf",
   "metadata": {},
   "outputs": [
    {
     "name": "stdout",
     "output_type": "stream",
     "text": [
      "9\n",
      "8\n"
     ]
    }
   ],
   "source": [
    "liste =[1,2,3,4,5,6,7,8,9]\n",
    "print(len(liste))\n",
    "print(len(liste)-1)\n"
   ]
  },
  {
   "cell_type": "code",
   "execution_count": 15,
   "id": "849fdf5e",
   "metadata": {},
   "outputs": [
    {
     "name": "stdout",
     "output_type": "stream",
     "text": [
      "[1, 2]\n"
     ]
    }
   ],
   "source": [
    "liste =[1,2,3,4,5,6,7,8,9]\n",
    "print(liste[:2])"
   ]
  },
  {
   "cell_type": "code",
   "execution_count": 16,
   "id": "d3536b34",
   "metadata": {},
   "outputs": [
    {
     "name": "stdout",
     "output_type": "stream",
     "text": [
      "[1, 2, 3, 4, 5]\n"
     ]
    }
   ],
   "source": [
    "liste =[1,2,3,4,5,6,7,8,9]\n",
    "print(liste[0:5])"
   ]
  },
  {
   "cell_type": "code",
   "execution_count": 17,
   "id": "6bb15f09",
   "metadata": {},
   "outputs": [
    {
     "name": "stdout",
     "output_type": "stream",
     "text": [
      "[2]\n"
     ]
    }
   ],
   "source": [
    "\n",
    "liste =[1,2,3,4,5,6,7,8,9]\n",
    "print(liste[1:2])"
   ]
  },
  {
   "cell_type": "code",
   "execution_count": null,
   "id": "890cc6c9",
   "metadata": {},
   "outputs": [],
   "source": []
  }
 ],
 "metadata": {
  "kernelspec": {
   "display_name": "Python 3 (ipykernel)",
   "language": "python",
   "name": "python3"
  },
  "language_info": {
   "codemirror_mode": {
    "name": "ipython",
    "version": 3
   },
   "file_extension": ".py",
   "mimetype": "text/x-python",
   "name": "python",
   "nbconvert_exporter": "python",
   "pygments_lexer": "ipython3",
   "version": "3.9.12"
  }
 },
 "nbformat": 4,
 "nbformat_minor": 5
}
