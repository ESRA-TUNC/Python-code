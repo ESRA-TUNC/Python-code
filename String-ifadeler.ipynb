{
 "cells": [
  {
   "cell_type": "code",
   "execution_count": 1,
   "id": "71d9f430",
   "metadata": {},
   "outputs": [
    {
     "name": "stdout",
     "output_type": "stream",
     "text": [
      "Ezgi Coşkun\n",
      "Ezgi Coşkun\n",
      "Ezgi Coşkun \n"
     ]
    }
   ],
   "source": [
    "'''\n",
    "string ifadeler\n",
    "\n",
    "'''\n",
    "\n",
    "a = 'Ezgi Coşkun'\n",
    "print(a)\n",
    "\n",
    "a = \"Ezgi Coşkun\"\n",
    "print(a)\n",
    "\n",
    "a = \"\"\"Ezgi Coşkun \"\"\"\n",
    "print(a)"
   ]
  },
  {
   "cell_type": "code",
   "execution_count": 2,
   "id": "61416d47",
   "metadata": {},
   "outputs": [
    {
     "name": "stdout",
     "output_type": "stream",
     "text": [
      "E\n",
      "z\n",
      "n\n",
      "i C\n",
      "zi\n"
     ]
    }
   ],
   "source": [
    "'''\n",
    "string ifadelerde indeksleme ve parçalama işlemi\n",
    "\n",
    "'''\n",
    "\n",
    "a = 'Ezgi Coşkun'\n",
    "print(a[0])       # ilk karakteri gösterir.\n",
    "print(a[1])\n",
    "print(a[-1])      # son karakteri gösterir.\n",
    "print(a[3:6])     # üçüncü karakterden başlar ve altıncı karakter dahil gösterir.\n",
    "print(a[1:5:2])   # birinci karakterle başlar, beşinci karakterle bitirir ve ikişer atlama yaparak gösterir."
   ]
  },
  {
   "cell_type": "code",
   "execution_count": 3,
   "id": "ba081be2",
   "metadata": {},
   "outputs": [
    {
     "name": "stdout",
     "output_type": "stream",
     "text": [
      "karakter uzunluğu : 11\n"
     ]
    }
   ],
   "source": [
    "\n",
    "'''\n",
    "string özellikleri\n",
    "\n",
    "'''\n",
    "a = 'Ezgi Coşkun'\n",
    "uzunluk =len(a)\n",
    "print(\"karakter uzunluğu :\", uzunluk)"
   ]
  },
  {
   "cell_type": "code",
   "execution_count": 4,
   "id": "69c04df8",
   "metadata": {},
   "outputs": [
    {
     "name": "stdout",
     "output_type": "stream",
     "text": [
      "Ad ve Soyad : Ezgi Coşkun\n"
     ]
    }
   ],
   "source": [
    "a = \"Ezgi\"             # string iki karakteri birleştirme \n",
    "b = \"Coşkun\"\n",
    "c = a+' '+b\n",
    "print('Ad ve Soyad :',c)\n"
   ]
  },
  {
   "cell_type": "code",
   "execution_count": null,
   "id": "3871d0a9",
   "metadata": {},
   "outputs": [],
   "source": []
  }
 ],
 "metadata": {
  "kernelspec": {
   "display_name": "Python 3 (ipykernel)",
   "language": "python",
   "name": "python3"
  },
  "language_info": {
   "codemirror_mode": {
    "name": "ipython",
    "version": 3
   },
   "file_extension": ".py",
   "mimetype": "text/x-python",
   "name": "python",
   "nbconvert_exporter": "python",
   "pygments_lexer": "ipython3",
   "version": "3.9.12"
  }
 },
 "nbformat": 4,
 "nbformat_minor": 5
}
