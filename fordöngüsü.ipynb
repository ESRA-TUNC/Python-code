{
 "cells": [
  {
   "cell_type": "code",
   "execution_count": 1,
   "id": "734dd45d",
   "metadata": {},
   "outputs": [
    {
     "name": "stdout",
     "output_type": "stream",
     "text": [
      "1\n",
      "2\n",
      "3\n",
      "4\n",
      "5\n",
      "6\n",
      "7\n",
      "8\n",
      "9\n"
     ]
    }
   ],
   "source": [
    "'''\n",
    "FOR DÖNGÜSÜ\n",
    "\n",
    "'''\n",
    "\n",
    "liste = [1,2,3,4,5,6,7,8,9]\n",
    "for i in liste:\n",
    "    print(i)"
   ]
  },
  {
   "cell_type": "code",
   "execution_count": 2,
   "id": "d9c90b81",
   "metadata": {},
   "outputs": [
    {
     "name": "stdout",
     "output_type": "stream",
     "text": [
      "toplam :1 i:1\n",
      "toplam :3 i:2\n",
      "toplam :6 i:3\n",
      "toplam :10 i:4\n",
      "toplam :15 i:5\n",
      "toplam :21 i:6\n",
      "toplam :28 i:7\n",
      "toplam :36 i:8\n",
      "toplam :45 i:9\n"
     ]
    }
   ],
   "source": [
    "toplam = 0\n",
    "liste = [1,2,3,4,5,6,7,8,9]\n",
    "for i in liste:\n",
    "    toplam = toplam + i\n",
    "    print(\"toplam :{} i:{}\".format(toplam,i))"
   ]
  },
  {
   "cell_type": "code",
   "execution_count": 3,
   "id": "196072ed",
   "metadata": {},
   "outputs": [
    {
     "name": "stdout",
     "output_type": "stream",
     "text": [
      "28\n",
      "46\n",
      "56\n"
     ]
    }
   ],
   "source": [
    "liste = [1,28,3,46,5,56,7,81,9]\n",
    "for i in liste:\n",
    "    if i % 2 == 0:\n",
    "        print(i)\n"
   ]
  },
  {
   "cell_type": "code",
   "execution_count": null,
   "id": "683aad59",
   "metadata": {},
   "outputs": [],
   "source": []
  }
 ],
 "metadata": {
  "kernelspec": {
   "display_name": "Python 3 (ipykernel)",
   "language": "python",
   "name": "python3"
  },
  "language_info": {
   "codemirror_mode": {
    "name": "ipython",
    "version": 3
   },
   "file_extension": ".py",
   "mimetype": "text/x-python",
   "name": "python",
   "nbconvert_exporter": "python",
   "pygments_lexer": "ipython3",
   "version": "3.9.12"
  }
 },
 "nbformat": 4,
 "nbformat_minor": 5
}
